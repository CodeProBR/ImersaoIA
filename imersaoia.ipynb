{
  "nbformat": 4,
  "nbformat_minor": 0,
  "metadata": {
    "colab": {
      "provenance": [],
      "toc_visible": true,
      "authorship_tag": "ABX9TyMVt9owfm/kBMqFaaAlsRtP",
      "include_colab_link": true
    },
    "kernelspec": {
      "name": "python3",
      "display_name": "Python 3"
    },
    "language_info": {
      "name": "python"
    }
  },
  "cells": [
    {
      "cell_type": "markdown",
      "metadata": {
        "id": "view-in-github",
        "colab_type": "text"
      },
      "source": [
        "<a href=\"https://colab.research.google.com/github/CodeProBR/ImersaoIA/blob/main/imersaoia.ipynb\" target=\"_parent\"><img src=\"https://colab.research.google.com/assets/colab-badge.svg\" alt=\"Open In Colab\"/></a>"
      ]
    },
    {
      "cell_type": "code",
      "execution_count": null,
      "metadata": {
        "id": "5f153Dparf8z"
      },
      "outputs": [],
      "source": [
        "import google.generativeai as genai\n",
        "from google.colab import userdata\n",
        "\n",
        "api_key = userdata.get(\"SECRET_KEY\")\n",
        "\n",
        "genai.configure(api_key=api_key)\n",
        "\n",
        "generation_config = {\n",
        "    \"candidate_count\": 1,\n",
        "    \"temperature\": 0.2,\n",
        "}\n",
        "\n",
        "safety_settings = {\n",
        "    \"HARASSMENT\": \"BLOCK_NONE\",\n",
        "    \"HATE\": \"BLOCK_NONE\",\n",
        "    \"SEXUAL\": \"BLOCK_NONE\",\n",
        "    \"DANGEROUS\": \"BLOCK_NONE\",\n",
        "}\n",
        "\n",
        "model = genai.GenerativeModel(model_name=\"gemini-1.0-pro\", generation_config=generation_config, safety_settings=safety_settings)\n",
        "\n",
        "chat = model.start_chat(history=[\n",
        "            {\n",
        "                \"role\": \"user\",\n",
        "                \"parts\": [{ \"text\": \"Você será nosso atendente. Somos uma pizzaria, chamada Pizzaria Cidade Real. Fazemos delivery, e o seu objetivo é pegar os pedidos do delivery. Funcionamos de quinta a sabado das 19h as 23h e domingo das 19h as 21h, horario de brasilia, sempre verifique o horario que o cliente esta falando com voce, pois pode ser que nao esteja no horario de funcionamento. Entregamos somente no Centro de Petrópolis / RJ, então antes de fechar o pedido para o cliente, verifique se a entrega está na área que entregamos, o valor do motoboy é fixo e custa R$ 5 reais. Temos no cardápio pizza para comer, tamanhos pequeno, médio e grande, por R$ 19,90, R$ 29,90, e R$ 39,90 reaspectivamente, sabores de mussarela, calabresa e marguerita. Temos para beber Coca cola e Guaraná de 2 litros, por R$ 9,90. Enntão você deve pegar o pedido do cliente, forma de pagamento e endereço, e no final enviar para ele todas as informações, quantidades, frete, total para ele confirmar. Nosso prazo é de até 30 minutos para entregar. Responda o cliente sempre baseado e somente nesse contexto, não crie informações diferentes a essa, caso não saiba responder, apenas avise ao cliente, que a pergunta solicitada você não consegue informar.\" }],\n",
        "            },\n",
        "            {\n",
        "                \"role\": \"model\",\n",
        "                \"parts\": [{ \"text\": \"Certo, irei atender o cliente, com base apenas no contexto que me passou\" }],\n",
        "            }\n",
        "        ])\n",
        "\n",
        "prompt = input(\"Você: \")\n",
        "\n",
        "while prompt != \"sair\":\n",
        "    response = chat.send_message(prompt)\n",
        "    print(\"\\nAtendente: \", response.text, \"\\n\")\n",
        "    prompt = input(\"Você: \")"
      ]
    }
  ]
}